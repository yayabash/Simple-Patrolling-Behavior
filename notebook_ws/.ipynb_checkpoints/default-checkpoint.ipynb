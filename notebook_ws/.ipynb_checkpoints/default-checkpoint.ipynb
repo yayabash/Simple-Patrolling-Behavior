{
 "cells": [
  {
   "cell_type": "markdown",
   "metadata": {},
   "source": [
    "<img src=\"images/logos/The-Construct-logo-new.png\" width=\"700\">"
   ]
  },
  {
   "cell_type": "markdown",
   "metadata": {},
   "source": [
    "# PRESENTS"
   ]
  },
  {
   "cell_type": "markdown",
   "metadata": {},
   "source": [
    "# ROS2 Learning Week Day 5"
   ]
  },
  {
   "cell_type": "markdown",
   "metadata": {},
   "source": [
    "<img src=\"images/5.png\" width=\"650\" />"
   ]
  },
  {
   "cell_type": "markdown",
   "metadata": {},
   "source": [
    "## How to Launch the Simulation\n",
    "To start the simulation, first we'll need to source our workspace:\n",
    "\n",
    "- Open a terminal window by clicking on the shell icon on the bottom left side of your screen:\n",
    "\n",
    "<img src=\"images/desktop_tray.png\"/>\n",
    "<img src=\"images/shell_icon.png\"/>\n",
    "\n",
    "- Copy and paste the following terminal commands in your shell:\n"
   ]
  },
  {
   "cell_type": "markdown",
   "metadata": {},
   "source": [
    "<table style=\"float:left;background: #407EAF\">\n",
    "<tr>\n",
    "<th>\n",
    "<p class=\"transparent\">Execute in WebShell #1</p>\n",
    "</th>\n",
    "</tr>\n",
    "</table>"
   ]
  },
  {
   "cell_type": "markdown",
   "metadata": {},
   "source": [
    "- This sets up our environment and launches the simulation. Run the following command on a shell:"
   ]
  },
  {
   "cell_type": "code",
   "execution_count": null,
   "metadata": {},
   "outputs": [],
   "source": [
    "source ~/simulation_ws/install/setup.bash\n",
    "ros2 launch turtlebot3_gazebo main_turtlebot3_lab.launch.xml"
   ]
  },
  {
   "cell_type": "markdown",
   "metadata": {},
   "source": [
    "And that's it! You should be able to see the simulation and control everything as if it was the real robot if you go to the Gazebo button in the bottom left side of your screen:\n",
    "<img src=\"images/gazebo_icon.png\"/>\n",
    "\n",
    "\n",
    "**Wait around 30 seconds maximum** for the simulation to start and you should see this simulation now:\n",
    "\n",
    "<img src=\"images/rrl-sim.png\"/>"
   ]
  },
  {
   "cell_type": "markdown",
   "metadata": {},
   "source": [
    "## <span style=\"color:blue;\">Do you want to be working in robotics in 6 months? Your opportunity is here.</span>"
   ]
  },
  {
   "cell_type": "markdown",
   "metadata": {},
   "source": [
    "## <span style=\"color:blue;\">Learn more: <a href=\"http://roboticsdeveloper.ai/\" target=\"_blank\">roboticsdeveloper.ai</a></span>"
   ]
  },
  {
   "cell_type": "markdown",
   "metadata": {},
   "source": [
    "<a href=\"http://roboticsdeveloper.ai/\" target=\"_blank\"><img src=\"images/masterclass.gif\" width=\"\" /></a>"
   ]
  },
  {
   "cell_type": "markdown",
   "metadata": {},
   "source": [
    "<h1 align=\"center\";> </h1>\n",
    "<div>\n",
    "    <h1 class=\"text-center\">\n",
    "        <span class=\"text-primary\">Project</span>\n",
    "        &nbsp;\n",
    "        <span class=\"\">Simple Patrolling behavior</span>\n",
    "    </h1>\n",
    "</div>"
   ]
  },
  {
   "cell_type": "markdown",
   "metadata": {},
   "source": [
    "The patrolling behavior is a behavior that makes the robot **continuously move around an environment while avoiding the obstacles**.\n",
    "\n",
    "To achieve this behavior in the robot, you need to do:\n",
    "\n",
    "1. **Create a ROS2 package named `patrol_behavior`**\n",
    "\n",
    "    * This package is the one that will contain the full project\n",
    "    * Inside the package include a ROS Python file named `patrol.py`\n",
    "\n",
    "\n",
    "2. **Subscribe to the laser topic of the robot**\n",
    "\n",
    "    * Inside the `patrol.py`, you need to subscribe to the laser topic and capture the rays \n",
    "    * In the callback of the subscriber, store the values of the ray on the right (the one that makes a 90º angle to the right with the front of the robot), the left annd the front and use them to know the robot's distance to the obstacles\n",
    "    \n",
    "    \n",
    "3. **Publish to the velocity topic of the robot**\n",
    "    \n",
    "    * Also inside the `patrol.py`, create a publisher to the `/cmd_vel` topic that controls the wheels\n",
    "    * At every step of the control loop, you need to publish the proper velocity command on that topic, based on the value of the distances detected by the laser.\n",
    "    * An example logic would be the following:\n",
    "        * If the distance to the wall (or any other obstacle) is **smaller than 0.15m in either side (right or left) of the robot**, you need to make the robot rotate to the opposite direction in order to move away from the wall\n",
    "        * If the distance to the wall (or any other obstacle) is **smaller than 0.35m in front of the robot**, you need to rotate the robot to the direction (right or left) which is more clear of obstacles\n",
    "        * If the distance to the wall (or any other obstacle) is **bigger than the distance thresholds**, just keep the robot moving forward\n",
    "    \n",
    "    **IMPORTANT**\n",
    "\n",
    "    Note that this is just an example logic, but it is not the only one, so you can freely create your own. The result of this whole behavior must be that the robot moves along the whole environment while avoiding the obstacles in it (see video below).\n",
    "    \n",
    "\n",
    "4. **Create a launch file named `start_patrolling.launch.py`**"
   ]
  },
  {
   "cell_type": "markdown",
   "metadata": {},
   "source": [
    "<h1 align=\"center\";> </h1>\n",
    "<div>\n",
    "    <h1 class=\"text-center\">\n",
    "        <span class=\"text-primary\">Part 1</span>\n",
    "        &nbsp;\n",
    "        <span class=\"\">Test your program in the simulation</span>\n",
    "    </h1>\n",
    "</div>"
   ]
  },
  {
   "cell_type": "markdown",
   "metadata": {},
   "source": [
    "Create the patrolling behavior program and test it on the simulation. \n",
    "\n",
    "**If the program doesn't work on the simulation, it is 100% not going to work on the real robot.**\n",
    "\n",
    "Real-life robot development works this way: first, test your program in a simulation. When it works there, try it on a real robot. Never the other way around."
   ]
  },
  {
   "cell_type": "markdown",
   "metadata": {},
   "source": [
    "<img src=\"realrobotlab_notebooks/wall_follow_long.gif\"/>"
   ]
  },
  {
   "cell_type": "markdown",
   "metadata": {},
   "source": [
    "Launch your ROS2 program and check the results. If the robot doesn't behave correctly, debug your program and try to figure out the reason."
   ]
  },
  {
   "cell_type": "markdown",
   "metadata": {},
   "source": [
    "### Useful  Commands"
   ]
  },
  {
   "cell_type": "markdown",
   "metadata": {},
   "source": [
    "For testing purposes, you can teleoperate the robot with the following command:"
   ]
  },
  {
   "cell_type": "markdown",
   "metadata": {},
   "source": [
    "<span class=\"badge badge-pill badge-primary\">\n",
    "    <i class=\"fa fa-play\"></i>\n",
    "    &nbsp;\n",
    "    Execute in a Shell\n",
    "</span>"
   ]
  },
  {
   "cell_type": "code",
   "execution_count": null,
   "metadata": {},
   "outputs": [],
   "source": [
    "ros2 run teleop_twist_keyboard teleop_twist_keyboard"
   ]
  },
  {
   "cell_type": "markdown",
   "metadata": {},
   "source": [
    "<div>\n",
    "    <h1 class=\"text-center\">\n",
    "        <span class=\"text-primary\">Part 2</span>\n",
    "        &nbsp;\n",
    "        <span class=\"\">Deploy to the real robot</span>\n",
    "    </h1>\n",
    "</div>"
   ]
  },
  {
   "cell_type": "markdown",
   "metadata": {},
   "source": [
    "Once the robot is doing the patrolling behavior in the simulated environment, it is time for you to test it on the real robot.\n",
    "\n",
    "### Book up to two 25-minute sessions per week\n",
    "\n",
    "To make a booking, follow these simple steps:"
   ]
  },
  {
   "cell_type": "markdown",
   "metadata": {},
   "source": [
    "<div>\n",
    "    <h2 class=\"text-center\">\n",
    "        <span class=\"text-primary\">Step 1</span>\n",
    "        &nbsp;\n",
    "        <span class=\"\">Book a Session</span>\n",
    "    </h2>\n",
    "</div>"
   ]
  },
  {
   "cell_type": "markdown",
   "metadata": {},
   "source": [
    "From The Construct's main dashboard, book a session by clicking on the icon seen below:"
   ]
  },
  {
   "cell_type": "markdown",
   "metadata": {},
   "source": [
    "<img src=\"realrobotlab_notebooks/reallab2.png\"/>"
   ]
  },
  {
   "cell_type": "markdown",
   "metadata": {},
   "source": [
    "A booking page will appear, where you can make a new booking.\n",
    "\n",
    "<img src=\"realrobotlab_notebooks/bookings.png\"/>"
   ]
  },
  {
   "cell_type": "markdown",
   "metadata": {},
   "source": [
    "You can either click on `Book a robot` on the bottom and then select the Turtlebot, or just click on `Book now` where the image of the turtlebot is and select the date and time for your reservation:"
   ]
  },
  {
   "cell_type": "markdown",
   "metadata": {},
   "source": [
    "<img src=\"realrobotlab_notebooks/reservet3.png\"/>"
   ]
  },
  {
   "cell_type": "markdown",
   "metadata": {},
   "source": [
    "Only the **available dates and times** are shown in green. They come in **25-minute blocks**.\n",
    "\n",
    "There is also a limitation on the number of bookings per week a user can make.\n",
    "\n",
    "Your number of available bookings depends on your license and subscription."
   ]
  },
  {
   "cell_type": "markdown",
   "metadata": {},
   "source": [
    "<img src=\"realrobotlab_notebooks/confirm.png\"/>"
   ]
  },
  {
   "cell_type": "markdown",
   "metadata": {},
   "source": [
    "* At any point in time you can check for bookings you have:\n",
    "\n",
    "<img src=\"realrobotlab_notebooks/bookasession.png\"/>"
   ]
  },
  {
   "cell_type": "markdown",
   "metadata": {},
   "source": [
    "<div>\n",
    "    <h1 class=\"text-center\">\n",
    "        <span class=\"text-primary\">Step 2</span>\n",
    "        &nbsp;\n",
    "        <span class=\"\">Open project rosject</span>\n",
    "    </h1>\n",
    "</div>"
   ]
  },
  {
   "cell_type": "markdown",
   "metadata": {},
   "source": [
    "Before the time of your booking, open your rosject. You will see the robot icon at the bottom bar has an orange dot. It means that your time to connect to the roobt will start soon. If you click on it you will see a countdown to your session start."
   ]
  },
  {
   "cell_type": "markdown",
   "metadata": {},
   "source": [
    "<img src=\"realrobotlab_notebooks/remaining.png\"/>"
   ]
  },
  {
   "cell_type": "markdown",
   "metadata": {},
   "source": [
    "The orange dot will turn red when your booked session has started."
   ]
  },
  {
   "cell_type": "markdown",
   "metadata": {},
   "source": [
    "<div>\n",
    "    <h1 class=\"text-center\">\n",
    "        <span class=\"text-primary\">Step 3</span>\n",
    "        &nbsp;\n",
    "        <span class=\"\">Turn ON robot connection</span>\n",
    "    </h1>\n",
    "</div>"
   ]
  },
  {
   "cell_type": "markdown",
   "metadata": {},
   "source": [
    "Once you are inside the rosject and your real robot session has started, click on the robot icon at the bottom. A popup with a toggle for **turning on the connection** will appear.\n",
    "\n",
    "**WARNING: Nothing will appear unless you have a booking. So if you didn't make a booking in the dashboard, now is the time to do it.**\n",
    "\n",
    "Now you just have to click on the toggle to connect the desktop environment to the remote lab. This will start the connection process, which lasts for a few seconds. \n",
    "\n",
    "Once the connection process is finished, the **red dot will change to green** if succesfully connected. Now **any terminal you open will show the topics and services of the real robot**.\n",
    "\n",
    "Move the joystick around to confirm you are connected to the robot:"
   ]
  },
  {
   "cell_type": "markdown",
   "metadata": {},
   "source": [
    "<img src=\"realrobotlab_notebooks/rrl.gif\"/>"
   ]
  },
  {
   "cell_type": "markdown",
   "metadata": {},
   "source": [
    "You are now connected to the robot!"
   ]
  },
  {
   "cell_type": "markdown",
   "metadata": {},
   "source": [
    "# Related Courses"
   ]
  },
  {
   "cell_type": "markdown",
   "metadata": {},
   "source": [
    "<a href=\"https://app.theconstructsim.com/courses/132\" target=\"_blanck\">\n",
    "ROS2 Basics in 5 Days (Python)\n",
    "</a>"
   ]
  },
  {
   "cell_type": "markdown",
   "metadata": {},
   "source": [
    "<a href=\"https://app.theconstructsim.com/courses/132\" target=\"_blanck\">\n",
    "<img src=\"images/ros2-basics-humble.png\" width=\"800\" />\n",
    "</a>"
   ]
  }
 ],
 "metadata": {
  "kernelspec": {
   "display_name": "Python 2",
   "language": "python",
   "name": "python2"
  },
  "language_info": {
   "codemirror_mode": {
    "name": "ipython",
    "version": 2
   },
   "file_extension": ".py",
   "mimetype": "text/x-python",
   "name": "python",
   "nbconvert_exporter": "python",
   "pygments_lexer": "ipython2",
   "version": "2.7.16"
  }
 },
 "nbformat": 4,
 "nbformat_minor": 1
}
